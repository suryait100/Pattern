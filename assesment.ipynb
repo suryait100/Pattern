{
 "cells": [
  {
   "cell_type": "code",
   "execution_count": null,
   "id": "88c047e5",
   "metadata": {},
   "outputs": [],
   "source": []
  },
  {
   "cell_type": "code",
   "execution_count": 1,
   "id": "cdd472fc",
   "metadata": {},
   "outputs": [
    {
     "name": "stdout",
     "output_type": "stream",
     "text": [
      "0                            GOPI NON FAT  YOGURT\n",
      "1             HIMALAYA TULSI RESPIRATORY WELLNESS\n",
      "2                             DEEP POTATOES DICED\n",
      "3                               BIKAJI GUR REWARI\n",
      "4             BAROODY MAAMOUL DATE FILLED COOKIES\n",
      "                           ...                   \n",
      "50910                  SADAF SEASONING YOGURT DIP\n",
      "50911                   CRISPY COCONUT POUND CAKE\n",
      "50912                        STYBEL RAISING FLOUR\n",
      "50913                    SAIRAM KOLHAPURI JAGGERY\n",
      "50914    ZED BLACK SANDAL CINNAMON INCENSE STICKS\n",
      "Name: name, Length: 50915, dtype: object\n"
     ]
    }
   ],
   "source": [
    "#import libraries\n",
    "import pandas as pd\n",
    "# read our csv file\n",
    "a=pd.read_csv('python_assesment .csv')\n",
    "#  print our product\n",
    "print(a['name'])"
   ]
  },
  {
   "cell_type": "code",
   "execution_count": 9,
   "id": "5bdd5371",
   "metadata": {},
   "outputs": [],
   "source": [
    "with open (\"python_assesment .csv\",\"r\") as f:\n",
    "    Product=f.read().split(\"\\n\")"
   ]
  },
  {
   "cell_type": "code",
   "execution_count": 10,
   "id": "86d0cacc",
   "metadata": {},
   "outputs": [],
   "source": [
    "#FuzzyWuzzy is a library of Python which is used for string matching. \n",
    "#Fuzzy string matching is the process of finding strings that match a given pattern\n",
    "from fuzzywuzzy import process"
   ]
  },
  {
   "cell_type": "code",
   "execution_count": 11,
   "id": "893c6e15",
   "metadata": {},
   "outputs": [],
   "source": [
    "def get_product(query,choices=list,limit=20):\n",
    "    results=process.extract(query,choices,limit=limit)\n",
    "    return results"
   ]
  },
  {
   "cell_type": "code",
   "execution_count": 12,
   "id": "83b0e40a",
   "metadata": {},
   "outputs": [
    {
     "name": "stdout",
     "output_type": "stream",
     "text": [
      "enter a products:DEEP\n"
     ]
    },
    {
     "data": {
      "text/plain": [
       "[('2,DEEP POTATOES DICED', 90),\n",
       " ('54,DEEP HIMEJ WHOLE', 90),\n",
       " ('56,DEEP CHANA DAL', 90),\n",
       " ('109,DEEP KATRI GUM', 90),\n",
       " ('118,DEEP CHUNDO', 90),\n",
       " ('200,DEEP URAD DAL CHILKA', 90),\n",
       " ('204,DEEP GOTA MIX', 90),\n",
       " ('264,DEEP SOOJI COARSE', 90),\n",
       " ('269,DEEP SPROUTED MOONG', 90),\n",
       " ('372,DEEP MILK CAKE', 90),\n",
       " ('373,DEEP KESAR MANGO PLUP', 90),\n",
       " ('379,DEEP SPICY PEANUTS', 90),\n",
       " ('435,DEEP TURMERIC POWDER', 90),\n",
       " ('441,DEEP TOOR DAL DRY', 90),\n",
       " ('445,DEEP BAINGAN BHARTHA', 90),\n",
       " ('448,DEEP HOT LIME PICKLE', 90),\n",
       " ('455,DEEP POTATO SAMOSA 50 PC', 90),\n",
       " ('522,DEEP KABULI CHANA', 90),\n",
       " ('540,DEEP JUMBO PEANUTS  RP2N', 90),\n",
       " ('555,DEEP GARAM MASALA POWDER', 90)]"
      ]
     },
     "execution_count": 12,
     "metadata": {},
     "output_type": "execute_result"
    }
   ],
   "source": [
    "get_product(input(\"enter a products:\"),Product)"
   ]
  }
 ],
 "metadata": {
  "kernelspec": {
   "display_name": "Python 3",
   "language": "python",
   "name": "python3"
  },
  "language_info": {
   "codemirror_mode": {
    "name": "ipython",
    "version": 3
   },
   "file_extension": ".py",
   "mimetype": "text/x-python",
   "name": "python",
   "nbconvert_exporter": "python",
   "pygments_lexer": "ipython3",
   "version": "3.8.8"
  }
 },
 "nbformat": 4,
 "nbformat_minor": 5
}
